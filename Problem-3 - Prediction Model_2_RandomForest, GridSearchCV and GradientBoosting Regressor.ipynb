{
 "cells": [
  {
   "cell_type": "markdown",
   "metadata": {},
   "source": [
    "# Ensemble Prediction Model"
   ]
  },
  {
   "cell_type": "code",
   "execution_count": 51,
   "metadata": {},
   "outputs": [],
   "source": [
    "## Data Analysis Phase\n",
    "## MAin aim is to understand more about the data\n",
    "\n",
    "import pandas as pd\n",
    "import numpy as np\n",
    "import matplotlib.pyplot as plt\n",
    "%matplotlib inline\n",
    "import seaborn as sns\n",
    "## Display all the columns of the dataframe\n",
    "\n",
    "pd.pandas.set_option('display.max_columns',None)"
   ]
  },
  {
   "cell_type": "code",
   "execution_count": 52,
   "metadata": {},
   "outputs": [
    {
     "name": "stdout",
     "output_type": "stream",
     "text": [
      "(999, 39) (5, 39)\n"
     ]
    }
   ],
   "source": [
    "df1=pd.read_csv(r'TrainingData.csv')\n",
    "df2_testdata = pd.read_csv(r'TestData.csv')\n",
    "## print shape of dataset with rows and columns\n",
    "print(df1.shape,df2_testdata.shape)"
   ]
  },
  {
   "cell_type": "code",
   "execution_count": 53,
   "metadata": {},
   "outputs": [],
   "source": [
    "frames = [df1, df2_testdata]\n",
    "df = pd.concat(frames,ignore_index=True, sort=False, axis = 0)"
   ]
  },
  {
   "cell_type": "code",
   "execution_count": 54,
   "metadata": {},
   "outputs": [
    {
     "data": {
      "text/plain": [
       "(1004, 39)"
      ]
     },
     "execution_count": 54,
     "metadata": {},
     "output_type": "execute_result"
    }
   ],
   "source": [
    "df.shape"
   ]
  },
  {
   "cell_type": "code",
   "execution_count": 55,
   "metadata": {},
   "outputs": [],
   "source": [
    "# ** Filling Missing values"
   ]
  },
  {
   "cell_type": "code",
   "execution_count": 56,
   "metadata": {},
   "outputs": [
    {
     "data": {
      "text/plain": [
       "Index(['Period', 'EQ', 'Social_Search_Impressions',\n",
       "       'Social_Search_Working_cost', 'Digital_Impressions',\n",
       "       'Digital_Working_cost', 'Print_Impressions.Ads40',\n",
       "       'Print_Working_Cost.Ads50', 'OOH_Impressions', 'OOH_Working_Cost',\n",
       "       'SOS_pct', 'Digital_Impressions_pct', 'CCFOT', 'Median_Temp',\n",
       "       'Median_Rainfall', 'Fuel_Price', 'Inflation', 'Trade_Invest',\n",
       "       'Brand_Equity', 'Avg_EQ_Price', 'Any_Promo_pct_ACV', 'Any_Feat_pct_ACV',\n",
       "       'Any_Disp_pct_ACV', 'EQ_Base_Price', 'Est_ACV_Selling', 'pct_ACV',\n",
       "       'Avg_no_of_Items', 'pct_PromoMarketDollars_Category', 'RPI_Category',\n",
       "       'Magazine_Impressions_pct', 'TV_GRP', 'Competitor1_RPI',\n",
       "       'Competitor2_RPI', 'Competitor3_RPI', 'Competitor4_RPI', 'EQ_Category',\n",
       "       'EQ_Subcategory', 'pct_PromoMarketDollars_Subcategory',\n",
       "       'RPI_Subcategory'],\n",
       "      dtype='object')"
      ]
     },
     "execution_count": 56,
     "metadata": {},
     "output_type": "execute_result"
    }
   ],
   "source": [
    "df.columns"
   ]
  },
  {
   "cell_type": "code",
   "execution_count": 57,
   "metadata": {},
   "outputs": [],
   "source": [
    "\n",
    "periods=df.Period.str.split('-').apply(pd.Series)\n",
    "periods.columns=['Year','PeriodNo']\n",
    "periods.PeriodNo=periods.PeriodNo.str.replace('Period:','')\n",
    "df=pd.concat([periods,df],axis=1)\n",
    "df.drop(['Period'],axis=1,inplace=True)"
   ]
  },
  {
   "cell_type": "code",
   "execution_count": 58,
   "metadata": {},
   "outputs": [
    {
     "data": {
      "text/html": [
       "<div>\n",
       "<style scoped>\n",
       "    .dataframe tbody tr th:only-of-type {\n",
       "        vertical-align: middle;\n",
       "    }\n",
       "\n",
       "    .dataframe tbody tr th {\n",
       "        vertical-align: top;\n",
       "    }\n",
       "\n",
       "    .dataframe thead th {\n",
       "        text-align: right;\n",
       "    }\n",
       "</style>\n",
       "<table border=\"1\" class=\"dataframe\">\n",
       "  <thead>\n",
       "    <tr style=\"text-align: right;\">\n",
       "      <th></th>\n",
       "      <th>Year</th>\n",
       "      <th>PeriodNo</th>\n",
       "      <th>EQ</th>\n",
       "      <th>Social_Search_Impressions</th>\n",
       "      <th>Social_Search_Working_cost</th>\n",
       "      <th>Digital_Impressions</th>\n",
       "      <th>Digital_Working_cost</th>\n",
       "      <th>Print_Impressions.Ads40</th>\n",
       "      <th>Print_Working_Cost.Ads50</th>\n",
       "      <th>OOH_Impressions</th>\n",
       "      <th>OOH_Working_Cost</th>\n",
       "      <th>SOS_pct</th>\n",
       "      <th>Digital_Impressions_pct</th>\n",
       "      <th>CCFOT</th>\n",
       "      <th>Median_Temp</th>\n",
       "      <th>Median_Rainfall</th>\n",
       "      <th>Fuel_Price</th>\n",
       "      <th>Inflation</th>\n",
       "      <th>Trade_Invest</th>\n",
       "      <th>Brand_Equity</th>\n",
       "      <th>Avg_EQ_Price</th>\n",
       "      <th>Any_Promo_pct_ACV</th>\n",
       "      <th>Any_Feat_pct_ACV</th>\n",
       "      <th>Any_Disp_pct_ACV</th>\n",
       "      <th>EQ_Base_Price</th>\n",
       "      <th>Est_ACV_Selling</th>\n",
       "      <th>pct_ACV</th>\n",
       "      <th>Avg_no_of_Items</th>\n",
       "      <th>pct_PromoMarketDollars_Category</th>\n",
       "      <th>RPI_Category</th>\n",
       "      <th>Magazine_Impressions_pct</th>\n",
       "      <th>TV_GRP</th>\n",
       "      <th>Competitor1_RPI</th>\n",
       "      <th>Competitor2_RPI</th>\n",
       "      <th>Competitor3_RPI</th>\n",
       "      <th>Competitor4_RPI</th>\n",
       "      <th>EQ_Category</th>\n",
       "      <th>EQ_Subcategory</th>\n",
       "      <th>pct_PromoMarketDollars_Subcategory</th>\n",
       "      <th>RPI_Subcategory</th>\n",
       "    </tr>\n",
       "  </thead>\n",
       "  <tbody>\n",
       "    <tr>\n",
       "      <th>0</th>\n",
       "      <td>2016</td>\n",
       "      <td>1</td>\n",
       "      <td>504.784933</td>\n",
       "      <td>NaN</td>\n",
       "      <td>NaN</td>\n",
       "      <td>37148.2</td>\n",
       "      <td>2045.282</td>\n",
       "      <td>NaN</td>\n",
       "      <td>NaN</td>\n",
       "      <td>NaN</td>\n",
       "      <td>NaN</td>\n",
       "      <td>7.446883</td>\n",
       "      <td>NaN</td>\n",
       "      <td>100.0</td>\n",
       "      <td>32.950</td>\n",
       "      <td>0.5150</td>\n",
       "      <td>8.226</td>\n",
       "      <td>0.013258</td>\n",
       "      <td>42744.25684</td>\n",
       "      <td>42.410000</td>\n",
       "      <td>49.091447</td>\n",
       "      <td>9.691794</td>\n",
       "      <td>NaN</td>\n",
       "      <td>1.688896</td>\n",
       "      <td>1.427532</td>\n",
       "      <td>8.696588e+09</td>\n",
       "      <td>39.441025</td>\n",
       "      <td>2.611782</td>\n",
       "      <td>0.0339</td>\n",
       "      <td>35.817030</td>\n",
       "      <td>NaN</td>\n",
       "      <td>NaN</td>\n",
       "      <td>97.173365</td>\n",
       "      <td>35.557371</td>\n",
       "      <td>44.502717</td>\n",
       "      <td>63.377268</td>\n",
       "      <td>1728388.673</td>\n",
       "      <td>331927.5394</td>\n",
       "      <td>0.162732</td>\n",
       "      <td>40.560563</td>\n",
       "    </tr>\n",
       "    <tr>\n",
       "      <th>1</th>\n",
       "      <td>2016</td>\n",
       "      <td>2</td>\n",
       "      <td>490.226477</td>\n",
       "      <td>NaN</td>\n",
       "      <td>NaN</td>\n",
       "      <td>50886.8</td>\n",
       "      <td>2370.584</td>\n",
       "      <td>0.000014</td>\n",
       "      <td>0.000015</td>\n",
       "      <td>NaN</td>\n",
       "      <td>NaN</td>\n",
       "      <td>11.677082</td>\n",
       "      <td>NaN</td>\n",
       "      <td>87.5</td>\n",
       "      <td>34.625</td>\n",
       "      <td>0.2700</td>\n",
       "      <td>7.473</td>\n",
       "      <td>0.009938</td>\n",
       "      <td>36290.43956</td>\n",
       "      <td>42.410000</td>\n",
       "      <td>49.057612</td>\n",
       "      <td>9.415938</td>\n",
       "      <td>NaN</td>\n",
       "      <td>1.687952</td>\n",
       "      <td>1.442716</td>\n",
       "      <td>8.682307e+09</td>\n",
       "      <td>38.417224</td>\n",
       "      <td>2.522814</td>\n",
       "      <td>0.0391</td>\n",
       "      <td>36.389065</td>\n",
       "      <td>NaN</td>\n",
       "      <td>NaN</td>\n",
       "      <td>97.850760</td>\n",
       "      <td>37.223072</td>\n",
       "      <td>45.720077</td>\n",
       "      <td>62.731742</td>\n",
       "      <td>1900859.879</td>\n",
       "      <td>334611.3806</td>\n",
       "      <td>0.231650</td>\n",
       "      <td>40.046301</td>\n",
       "    </tr>\n",
       "    <tr>\n",
       "      <th>2</th>\n",
       "      <td>2016</td>\n",
       "      <td>3</td>\n",
       "      <td>479.244686</td>\n",
       "      <td>NaN</td>\n",
       "      <td>NaN</td>\n",
       "      <td>253333.2</td>\n",
       "      <td>3180.888</td>\n",
       "      <td>0.000016</td>\n",
       "      <td>0.000017</td>\n",
       "      <td>NaN</td>\n",
       "      <td>NaN</td>\n",
       "      <td>0.102858</td>\n",
       "      <td>NaN</td>\n",
       "      <td>96.0</td>\n",
       "      <td>46.700</td>\n",
       "      <td>0.3900</td>\n",
       "      <td>8.001</td>\n",
       "      <td>0.007832</td>\n",
       "      <td>34852.14166</td>\n",
       "      <td>42.410000</td>\n",
       "      <td>49.367514</td>\n",
       "      <td>5.176684</td>\n",
       "      <td>NaN</td>\n",
       "      <td>NaN</td>\n",
       "      <td>1.423408</td>\n",
       "      <td>8.706898e+09</td>\n",
       "      <td>36.499442</td>\n",
       "      <td>2.477322</td>\n",
       "      <td>0.0228</td>\n",
       "      <td>36.599984</td>\n",
       "      <td>NaN</td>\n",
       "      <td>NaN</td>\n",
       "      <td>96.397739</td>\n",
       "      <td>40.800563</td>\n",
       "      <td>41.822953</td>\n",
       "      <td>62.090417</td>\n",
       "      <td>2036436.906</td>\n",
       "      <td>387148.3582</td>\n",
       "      <td>0.125394</td>\n",
       "      <td>40.411115</td>\n",
       "    </tr>\n",
       "    <tr>\n",
       "      <th>3</th>\n",
       "      <td>2016</td>\n",
       "      <td>4</td>\n",
       "      <td>489.057428</td>\n",
       "      <td>NaN</td>\n",
       "      <td>NaN</td>\n",
       "      <td>3426239.0</td>\n",
       "      <td>13595.398</td>\n",
       "      <td>0.000016</td>\n",
       "      <td>0.000019</td>\n",
       "      <td>NaN</td>\n",
       "      <td>NaN</td>\n",
       "      <td>0.249055</td>\n",
       "      <td>NaN</td>\n",
       "      <td>100.0</td>\n",
       "      <td>49.650</td>\n",
       "      <td>0.3500</td>\n",
       "      <td>8.767</td>\n",
       "      <td>0.010034</td>\n",
       "      <td>24869.55899</td>\n",
       "      <td>43.543571</td>\n",
       "      <td>50.657634</td>\n",
       "      <td>6.088273</td>\n",
       "      <td>NaN</td>\n",
       "      <td>NaN</td>\n",
       "      <td>1.443401</td>\n",
       "      <td>8.660289e+09</td>\n",
       "      <td>38.135159</td>\n",
       "      <td>2.520409</td>\n",
       "      <td>0.0147</td>\n",
       "      <td>38.201852</td>\n",
       "      <td>NaN</td>\n",
       "      <td>NaN</td>\n",
       "      <td>98.936519</td>\n",
       "      <td>36.576140</td>\n",
       "      <td>41.578429</td>\n",
       "      <td>63.374358</td>\n",
       "      <td>2113635.013</td>\n",
       "      <td>482489.6740</td>\n",
       "      <td>0.056603</td>\n",
       "      <td>42.213246</td>\n",
       "    </tr>\n",
       "    <tr>\n",
       "      <th>4</th>\n",
       "      <td>2016</td>\n",
       "      <td>5</td>\n",
       "      <td>477.031994</td>\n",
       "      <td>NaN</td>\n",
       "      <td>NaN</td>\n",
       "      <td>552197.8</td>\n",
       "      <td>3983.134</td>\n",
       "      <td>0.000016</td>\n",
       "      <td>0.000019</td>\n",
       "      <td>NaN</td>\n",
       "      <td>NaN</td>\n",
       "      <td>13.338804</td>\n",
       "      <td>NaN</td>\n",
       "      <td>100.0</td>\n",
       "      <td>58.100</td>\n",
       "      <td>0.5025</td>\n",
       "      <td>9.277</td>\n",
       "      <td>0.009546</td>\n",
       "      <td>61675.32162</td>\n",
       "      <td>43.790000</td>\n",
       "      <td>50.625777</td>\n",
       "      <td>7.827112</td>\n",
       "      <td>NaN</td>\n",
       "      <td>0.170731</td>\n",
       "      <td>1.473687</td>\n",
       "      <td>8.644519e+09</td>\n",
       "      <td>38.629564</td>\n",
       "      <td>2.497285</td>\n",
       "      <td>0.0219</td>\n",
       "      <td>38.648805</td>\n",
       "      <td>31.702433</td>\n",
       "      <td>25.3</td>\n",
       "      <td>100.509969</td>\n",
       "      <td>36.032016</td>\n",
       "      <td>42.602412</td>\n",
       "      <td>63.291934</td>\n",
       "      <td>2402211.102</td>\n",
       "      <td>629826.6484</td>\n",
       "      <td>0.065059</td>\n",
       "      <td>43.345578</td>\n",
       "    </tr>\n",
       "  </tbody>\n",
       "</table>\n",
       "</div>"
      ],
      "text/plain": [
       "    Year PeriodNo          EQ  Social_Search_Impressions  \\\n",
       "0  2016         1  504.784933                        NaN   \n",
       "1  2016         2  490.226477                        NaN   \n",
       "2  2016         3  479.244686                        NaN   \n",
       "3  2016         4  489.057428                        NaN   \n",
       "4  2016         5  477.031994                        NaN   \n",
       "\n",
       "   Social_Search_Working_cost  Digital_Impressions  Digital_Working_cost  \\\n",
       "0                         NaN              37148.2              2045.282   \n",
       "1                         NaN              50886.8              2370.584   \n",
       "2                         NaN             253333.2              3180.888   \n",
       "3                         NaN            3426239.0             13595.398   \n",
       "4                         NaN             552197.8              3983.134   \n",
       "\n",
       "   Print_Impressions.Ads40  Print_Working_Cost.Ads50  OOH_Impressions  \\\n",
       "0                      NaN                       NaN              NaN   \n",
       "1                 0.000014                  0.000015              NaN   \n",
       "2                 0.000016                  0.000017              NaN   \n",
       "3                 0.000016                  0.000019              NaN   \n",
       "4                 0.000016                  0.000019              NaN   \n",
       "\n",
       "   OOH_Working_Cost    SOS_pct  Digital_Impressions_pct  CCFOT  Median_Temp  \\\n",
       "0               NaN   7.446883                      NaN  100.0       32.950   \n",
       "1               NaN  11.677082                      NaN   87.5       34.625   \n",
       "2               NaN   0.102858                      NaN   96.0       46.700   \n",
       "3               NaN   0.249055                      NaN  100.0       49.650   \n",
       "4               NaN  13.338804                      NaN  100.0       58.100   \n",
       "\n",
       "   Median_Rainfall  Fuel_Price  Inflation  Trade_Invest  Brand_Equity  \\\n",
       "0           0.5150       8.226   0.013258   42744.25684     42.410000   \n",
       "1           0.2700       7.473   0.009938   36290.43956     42.410000   \n",
       "2           0.3900       8.001   0.007832   34852.14166     42.410000   \n",
       "3           0.3500       8.767   0.010034   24869.55899     43.543571   \n",
       "4           0.5025       9.277   0.009546   61675.32162     43.790000   \n",
       "\n",
       "   Avg_EQ_Price  Any_Promo_pct_ACV  Any_Feat_pct_ACV  Any_Disp_pct_ACV  \\\n",
       "0     49.091447           9.691794               NaN          1.688896   \n",
       "1     49.057612           9.415938               NaN          1.687952   \n",
       "2     49.367514           5.176684               NaN               NaN   \n",
       "3     50.657634           6.088273               NaN               NaN   \n",
       "4     50.625777           7.827112               NaN          0.170731   \n",
       "\n",
       "   EQ_Base_Price  Est_ACV_Selling    pct_ACV  Avg_no_of_Items  \\\n",
       "0       1.427532     8.696588e+09  39.441025         2.611782   \n",
       "1       1.442716     8.682307e+09  38.417224         2.522814   \n",
       "2       1.423408     8.706898e+09  36.499442         2.477322   \n",
       "3       1.443401     8.660289e+09  38.135159         2.520409   \n",
       "4       1.473687     8.644519e+09  38.629564         2.497285   \n",
       "\n",
       "   pct_PromoMarketDollars_Category  RPI_Category  Magazine_Impressions_pct  \\\n",
       "0                           0.0339     35.817030                       NaN   \n",
       "1                           0.0391     36.389065                       NaN   \n",
       "2                           0.0228     36.599984                       NaN   \n",
       "3                           0.0147     38.201852                       NaN   \n",
       "4                           0.0219     38.648805                 31.702433   \n",
       "\n",
       "   TV_GRP  Competitor1_RPI  Competitor2_RPI  Competitor3_RPI  Competitor4_RPI  \\\n",
       "0     NaN        97.173365        35.557371        44.502717        63.377268   \n",
       "1     NaN        97.850760        37.223072        45.720077        62.731742   \n",
       "2     NaN        96.397739        40.800563        41.822953        62.090417   \n",
       "3     NaN        98.936519        36.576140        41.578429        63.374358   \n",
       "4    25.3       100.509969        36.032016        42.602412        63.291934   \n",
       "\n",
       "   EQ_Category  EQ_Subcategory  pct_PromoMarketDollars_Subcategory  \\\n",
       "0  1728388.673     331927.5394                            0.162732   \n",
       "1  1900859.879     334611.3806                            0.231650   \n",
       "2  2036436.906     387148.3582                            0.125394   \n",
       "3  2113635.013     482489.6740                            0.056603   \n",
       "4  2402211.102     629826.6484                            0.065059   \n",
       "\n",
       "   RPI_Subcategory  \n",
       "0        40.560563  \n",
       "1        40.046301  \n",
       "2        40.411115  \n",
       "3        42.213246  \n",
       "4        43.345578  "
      ]
     },
     "execution_count": 58,
     "metadata": {},
     "output_type": "execute_result"
    }
   ],
   "source": [
    "df.head()"
   ]
  },
  {
   "cell_type": "code",
   "execution_count": 59,
   "metadata": {
    "scrolled": true
   },
   "outputs": [
    {
     "name": "stdout",
     "output_type": "stream",
     "text": [
      "(1004, 40)\n",
      "Year                                  965\n",
      "PeriodNo                              965\n",
      "EQ                                    965\n",
      "Social_Search_Impressions             975\n",
      "Social_Search_Working_cost            975\n",
      "Digital_Impressions                   978\n",
      "Digital_Working_cost                  979\n",
      "Print_Impressions.Ads40               966\n",
      "Print_Working_Cost.Ads50              966\n",
      "OOH_Impressions                       992\n",
      "OOH_Working_Cost                      995\n",
      "SOS_pct                               965\n",
      "Digital_Impressions_pct               991\n",
      "CCFOT                                 965\n",
      "Median_Temp                           965\n",
      "Median_Rainfall                       965\n",
      "Fuel_Price                            965\n",
      "Inflation                             965\n",
      "Trade_Invest                          965\n",
      "Brand_Equity                          965\n",
      "Avg_EQ_Price                          965\n",
      "Any_Promo_pct_ACV                     965\n",
      "Any_Feat_pct_ACV                      992\n",
      "Any_Disp_pct_ACV                      979\n",
      "EQ_Base_Price                         965\n",
      "Est_ACV_Selling                       965\n",
      "pct_ACV                               965\n",
      "Avg_no_of_Items                       965\n",
      "pct_PromoMarketDollars_Category       965\n",
      "RPI_Category                          965\n",
      "Magazine_Impressions_pct              991\n",
      "TV_GRP                                991\n",
      "Competitor1_RPI                       965\n",
      "Competitor2_RPI                       965\n",
      "Competitor3_RPI                       965\n",
      "Competitor4_RPI                       965\n",
      "EQ_Category                           965\n",
      "EQ_Subcategory                        965\n",
      "pct_PromoMarketDollars_Subcategory    965\n",
      "RPI_Subcategory                       965\n",
      "dtype: int64\n"
     ]
    }
   ],
   "source": [
    "print(df.shape)\n",
    "print(df.isna().sum()[df.isna().sum()>17])"
   ]
  },
  {
   "cell_type": "code",
   "execution_count": 60,
   "metadata": {},
   "outputs": [
    {
     "data": {
      "text/plain": [
       "Year                                  965\n",
       "PeriodNo                              965\n",
       "EQ                                    965\n",
       "Social_Search_Impressions             975\n",
       "Social_Search_Working_cost            975\n",
       "Digital_Impressions                   978\n",
       "Digital_Working_cost                  979\n",
       "Print_Impressions.Ads40               966\n",
       "Print_Working_Cost.Ads50              966\n",
       "OOH_Impressions                       992\n",
       "OOH_Working_Cost                      995\n",
       "SOS_pct                               965\n",
       "Digital_Impressions_pct               991\n",
       "CCFOT                                 965\n",
       "Median_Temp                           965\n",
       "Median_Rainfall                       965\n",
       "Fuel_Price                            965\n",
       "Inflation                             965\n",
       "Trade_Invest                          965\n",
       "Brand_Equity                          965\n",
       "Avg_EQ_Price                          965\n",
       "Any_Promo_pct_ACV                     965\n",
       "Any_Feat_pct_ACV                      992\n",
       "Any_Disp_pct_ACV                      979\n",
       "EQ_Base_Price                         965\n",
       "Est_ACV_Selling                       965\n",
       "pct_ACV                               965\n",
       "Avg_no_of_Items                       965\n",
       "pct_PromoMarketDollars_Category       965\n",
       "RPI_Category                          965\n",
       "Magazine_Impressions_pct              991\n",
       "TV_GRP                                991\n",
       "Competitor1_RPI                       965\n",
       "Competitor2_RPI                       965\n",
       "Competitor3_RPI                       965\n",
       "Competitor4_RPI                       965\n",
       "EQ_Category                           965\n",
       "EQ_Subcategory                        965\n",
       "pct_PromoMarketDollars_Subcategory    965\n",
       "RPI_Subcategory                       965\n",
       "dtype: int64"
      ]
     },
     "execution_count": 60,
     "metadata": {},
     "output_type": "execute_result"
    }
   ],
   "source": [
    "df.isna().sum()[df.isna().sum()>0]"
   ]
  },
  {
   "cell_type": "markdown",
   "metadata": {},
   "source": [
    "For columns which are having more the 50% of records as null, we are dropping the columns as imputing such data with hamper the model further."
   ]
  },
  {
   "cell_type": "code",
   "execution_count": 61,
   "metadata": {},
   "outputs": [],
   "source": [
    "df.drop(['OOH_Impressions','OOH_Working_Cost','Digital_Impressions_pct','Any_Feat_pct_ACV','Magazine_Impressions_pct','TV_GRP'],axis=1,inplace=True)"
   ]
  },
  {
   "cell_type": "code",
   "execution_count": 62,
   "metadata": {},
   "outputs": [],
   "source": [
    "# PeriodNo,Year contained NaN\n",
    "df = df[~df['PeriodNo'].isnull()]\n",
    "df = df[~df['Year'].isnull()]\n"
   ]
  },
  {
   "cell_type": "code",
   "execution_count": 63,
   "metadata": {},
   "outputs": [],
   "source": [
    "df.Social_Search_Impressions=df.Social_Search_Impressions.fillna(df.Social_Search_Impressions.mean())\n",
    "df.Social_Search_Working_cost=df.Social_Search_Working_cost.fillna(df.Social_Search_Working_cost.mean())\n",
    "df.Digital_Impressions=df.Digital_Impressions.fillna(df.Digital_Impressions.mean())\n",
    "df.Digital_Working_cost=df.Digital_Working_cost.fillna(df.Digital_Working_cost.mean())\n",
    "df.Any_Disp_pct_ACV=df.Any_Disp_pct_ACV.fillna(df.Any_Disp_pct_ACV.mean())\n",
    "df['Print_Impressions.Ads40']=df['Print_Impressions.Ads40'].fillna(df['Print_Impressions.Ads40'].mean())\n",
    "df['Print_Working_Cost.Ads50']=df['Print_Working_Cost.Ads50'].fillna(df['Print_Working_Cost.Ads50'].mean())\n",
    "df.PeriodNo=df.PeriodNo.apply(int)\n",
    "df[['PeriodNo']] = df[['PeriodNo']].astype(int)\n",
    "df[['Year']] = df[['Year']].astype(int)\n",
    "df_pred=df[['Year','PeriodNo','EQ']]"
   ]
  },
  {
   "cell_type": "markdown",
   "metadata": {},
   "source": [
    "We will replace the missing values with mean for the respective columns"
   ]
  },
  {
   "cell_type": "code",
   "execution_count": 64,
   "metadata": {},
   "outputs": [],
   "source": [
    "df2=pd.concat([df,pd.get_dummies(df.PeriodNo,prefix='PN')],axis=1)"
   ]
  },
  {
   "cell_type": "code",
   "execution_count": 65,
   "metadata": {},
   "outputs": [],
   "source": [
    "y=df2['EQ'].values\n",
    "X=df2.drop(['EQ','Year'],axis=1).values\n",
    "from sklearn.preprocessing import StandardScaler\n",
    "ss=StandardScaler()\n",
    "X_std=ss.fit_transform(X)\n",
    "from sklearn.model_selection import train_test_split\n",
    "xtrain,xtest,ytrain,ytest=train_test_split(X_std,y,test_size=0.20,random_state=0)"
   ]
  },
  {
   "cell_type": "code",
   "execution_count": 66,
   "metadata": {},
   "outputs": [
    {
     "data": {
      "image/png": "[encoded data removed]",
      "text/plain": [
       "<Figure size 432x288 with 1 Axes>"
      ]
     },
     "metadata": {
      "needs_background": "light"
     },
     "output_type": "display_data"
    }
   ],
   "source": [
    "y=df2['EQ']\n",
    "X=df2.drop(['EQ','Year'],axis=1)\n",
    "from sklearn.ensemble import RandomForestRegressor\n",
    "from sklearn.metrics import mean_squared_error\n",
    "rfr=RandomForestRegressor(n_estimators=100)\n",
    "rfr.fit(X,y)\n",
    "import matplotlib.pyplot as plt\n",
    "feat_importances = pd.Series(rfr.feature_importances_, index=X.columns)\n",
    "feat_importances.sort_values().plot(kind='barh')\n",
    "plt.show()"
   ]
  },
  {
   "cell_type": "code",
   "execution_count": 67,
   "metadata": {},
   "outputs": [
    {
     "data": {
      "text/plain": [
       "<matplotlib.axes._subplots.AxesSubplot at 0x235eff84e08>"
      ]
     },
     "execution_count": 67,
     "metadata": {},
     "output_type": "execute_result"
    },
    {
     "data": {
      "image/png": "[encoded data removed]",
      "text/plain": [
       "<Figure size 432x288 with 1 Axes>"
      ]
     },
     "metadata": {
      "needs_background": "light"
     },
     "output_type": "display_data"
    }
   ],
   "source": [
    "feat_importances.nlargest(24).plot(kind='barh')"
   ]
  },
  {
   "cell_type": "code",
   "execution_count": 68,
   "metadata": {},
   "outputs": [],
   "source": [
    "df_featured=df[feat_importances.sort_values(ascending=False)[:24].index.to_list()+['EQ']]"
   ]
  },
  {
   "cell_type": "code",
   "execution_count": 69,
   "metadata": {},
   "outputs": [],
   "source": [
    "y=df_featured['EQ']\n",
    "X=df_featured.drop(['EQ'],axis=1)\n",
    "\n",
    "from sklearn.model_selection import train_test_split\n",
    "xtrain,xtest,ytrain,ytest=train_test_split(X,y,test_size=0.25,random_state=0)"
   ]
  },
  {
   "cell_type": "code",
   "execution_count": 70,
   "metadata": {},
   "outputs": [
    {
     "name": "stdout",
     "output_type": "stream",
     "text": [
      "Fitting 3 folds for each of 60 candidates, totalling 180 fits\n"
     ]
    },
    {
     "name": "stderr",
     "output_type": "stream",
     "text": [
      "[Parallel(n_jobs=2)]: Using backend LokyBackend with 2 concurrent workers.\n",
      "[Parallel(n_jobs=2)]: Done  58 tasks      | elapsed:    4.6s\n",
      "[Parallel(n_jobs=2)]: Done 180 out of 180 | elapsed:    9.1s finished\n"
     ]
    },
    {
     "data": {
      "text/plain": [
       "9.939950139727205e-08"
      ]
     },
     "execution_count": 70,
     "metadata": {},
     "output_type": "execute_result"
    }
   ],
   "source": [
    "from sklearn.model_selection import GridSearchCV\n",
    "from sklearn.metrics import regression\n",
    "from sklearn.ensemble import GradientBoostingRegressor\n",
    "\n",
    "param_grid = {#'loss':['ls', 'lad', 'huber', 'quantile'],\n",
    "                  'max_depth': [3,4], \n",
    "                  #'min_samples_split': [2,4,6,8],\n",
    "                  #'min_samples_leaf':[2,4,6,8],\n",
    "                  'n_estimators':[150,175,200],\n",
    "                  'learning_rate':[round(x,3) for x in np.arange(0.01,0.5,0.05)]\n",
    "                 }\n",
    "grid_search = GridSearchCV(GradientBoostingRegressor(), param_grid, cv=3,verbose=1,n_jobs=2)\n",
    "grid_search.fit(X, y)\n",
    "y_true, y_pred = y, grid_search.predict(X)\n",
    "regression.mean_squared_error(y_true, y_pred)"
   ]
  },
  {
   "cell_type": "code",
   "execution_count": 71,
   "metadata": {},
   "outputs": [
    {
     "data": {
      "text/plain": [
       "{'learning_rate': 0.26, 'max_depth': 3, 'n_estimators': 175}"
      ]
     },
     "execution_count": 71,
     "metadata": {},
     "output_type": "execute_result"
    }
   ],
   "source": [
    "grid_search.best_params_"
   ]
  },
  {
   "cell_type": "code",
   "execution_count": 72,
   "metadata": {},
   "outputs": [
    {
     "data": {
      "text/plain": [
       "<matplotlib.legend.Legend at 0x235f08ae348>"
      ]
     },
     "execution_count": 72,
     "metadata": {},
     "output_type": "execute_result"
    },
    {
     "data": {
      "image/png": "[encoded data removed]",
      "text/plain": [
       "<Figure size 432x288 with 1 Axes>"
      ]
     },
     "metadata": {
      "needs_background": "light"
     },
     "output_type": "display_data"
    }
   ],
   "source": [
    "from sklearn.ensemble import GradientBoostingRegressor\n",
    "\n",
    "lr_list = [x for x in np.arange(0.01,0.5,0.05)]\n",
    "plt_data={'learning_rate':[],'lin_rmse_train':[],'lin_rmse_test':[]}\n",
    "for learning_rate in lr_list:\n",
    "    gbmr = GradientBoostingRegressor(n_estimators=175, learning_rate=learning_rate, random_state=0,max_depth=4)\n",
    "    gbmr.fit(xtrain, ytrain)\n",
    "    pred_train=gbmr.predict(xtrain)\n",
    "    pred_test=gbmr.predict(xtest)\n",
    "    plt_data['learning_rate'].append(learning_rate)\n",
    "    plt_data['lin_rmse_train'].append(np.sqrt(mean_squared_error(ytrain,pred_train)))\n",
    "    plt_data['lin_rmse_test'].append(np.sqrt(mean_squared_error(ytest,pred_test)))\n",
    "plt_data=pd.DataFrame(plt_data)\n",
    "plt.plot(plt_data.learning_rate,plt_data.lin_rmse_train,'blue',label='Train Error')\n",
    "plt.plot(plt_data.learning_rate,plt_data.lin_rmse_test,'green',label='Test Error')\n",
    "plt.legend()"
   ]
  }
 ],
 "metadata": {
  "kernelspec": {
   "display_name": "Python 3",
   "language": "python",
   "name": "python3"
  },
  "language_info": {
   "codemirror_mode": {
    "name": "ipython",
    "version": 3
   },
   "file_extension": ".py",
   "mimetype": "text/x-python",
   "name": "python",
   "nbconvert_exporter": "python",
   "pygments_lexer": "ipython3",
   "version": "3.7.6"
  }
 },
 "nbformat": 4,
 "nbformat_minor": 4
}
